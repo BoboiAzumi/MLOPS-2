{
 "cells": [
  {
   "cell_type": "code",
   "execution_count": 1,
   "id": "54d37195",
   "metadata": {},
   "outputs": [],
   "source": [
    "import requests\n",
    "import json"
   ]
  },
  {
   "cell_type": "code",
   "execution_count": 2,
   "id": "b4fb775e",
   "metadata": {},
   "outputs": [],
   "source": [
    "URL = \"https://mlops-2-production-500e.up.railway.app/v1/models/hypertension-model:predict\""
   ]
  },
  {
   "cell_type": "code",
   "execution_count": 3,
   "id": "fa6ed24c",
   "metadata": {},
   "outputs": [],
   "source": [
    "payload = {\n",
    "  \"instances\": [\n",
    "    {\n",
    "      \"Age\": [42],\n",
    "      \"Salt_Intake\": [10.7],\n",
    "      \"Stress_Score\": [7],\n",
    "      \"BP_History\": [\"High Stage 2\"],\n",
    "      \"Sleep_Duration\": [5.3],\n",
    "      \"BMI\": [26.9],\n",
    "      \"Medication\": [\"A\"],\n",
    "      \"Family_History\": [\"No\"],\n",
    "      \"Exercise_Level\": [\"Moderate\"],\n",
    "      \"Smoking_Status\": [\"Former Smoker\"]\n",
    "    },\n",
    "    {\n",
    "      \"Age\": [64],\n",
    "      \"Salt_Intake\": [6.9],\n",
    "      \"Stress_Score\": [4],\n",
    "      \"BP_History\": [\"Normal\"],\n",
    "      \"Sleep_Duration\": [7.1],\n",
    "      \"BMI\": [22.4],\n",
    "      \"Medication\": [\"None\"],\n",
    "      \"Family_History\": [\"Yes\"],\n",
    "      \"Exercise_Level\": [\"High\"],\n",
    "      \"Smoking_Status\": [\"Non-Smoker\"]\n",
    "    },\n",
    "    {\n",
    "      \"Age\": [30],\n",
    "      \"Salt_Intake\": [8.5],\n",
    "      \"Stress_Score\": [9],\n",
    "      \"BP_History\": [\"High Stage 1\"],\n",
    "      \"Sleep_Duration\": [4.9],\n",
    "      \"BMI\": [30.1],\n",
    "      \"Medication\": [\"B\"],\n",
    "      \"Family_History\": [\"Yes\"],\n",
    "      \"Exercise_Level\": [\"Low\"],\n",
    "      \"Smoking_Status\": [\"Current Smoker\"]\n",
    "    }\n",
    "  ]\n",
    "}"
   ]
  },
  {
   "cell_type": "code",
   "execution_count": 4,
   "id": "cfe1f785",
   "metadata": {},
   "outputs": [
    {
     "name": "stdout",
     "output_type": "stream",
     "text": [
      "{\n",
      "  \"predictions\": [\n",
      "    [\n",
      "      1.0\n",
      "    ],\n",
      "    [\n",
      "      3.60498582e-08\n",
      "    ],\n",
      "    [\n",
      "      1.0\n",
      "    ]\n",
      "  ]\n",
      "}\n"
     ]
    }
   ],
   "source": [
    "response = requests.post(URL, json=payload)\n",
    "response.raise_for_status()\n",
    "result = response.json()\n",
    "print(json.dumps(result, indent=2))"
   ]
  },
  {
   "cell_type": "code",
   "execution_count": 5,
   "id": "2b336c07",
   "metadata": {},
   "outputs": [
    {
     "name": "stdout",
     "output_type": "stream",
     "text": [
      "Data ke-1: Skor = 1.000 → Berisiko\n",
      "Data ke-2: Skor = 0.000 → Tidak Berisiko\n",
      "Data ke-3: Skor = 1.000 → Berisiko\n"
     ]
    }
   ],
   "source": [
    "for i, pred in enumerate(result[\"predictions\"]):\n",
    "    score = pred[0]\n",
    "    label = \"Berisiko\" if score >= 0.5 else \"Tidak Berisiko\"\n",
    "    print(f\"Data ke-{i+1}: Skor = {score:.3f} → {label}\")"
   ]
  }
 ],
 "metadata": {
  "kernelspec": {
   "display_name": ".venv",
   "language": "python",
   "name": "python3"
  },
  "language_info": {
   "codemirror_mode": {
    "name": "ipython",
    "version": 3
   },
   "file_extension": ".py",
   "mimetype": "text/x-python",
   "name": "python",
   "nbconvert_exporter": "python",
   "pygments_lexer": "ipython3",
   "version": "3.9.0"
  }
 },
 "nbformat": 4,
 "nbformat_minor": 5
}
